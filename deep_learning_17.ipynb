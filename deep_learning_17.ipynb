{
 "cells": [
  {
   "cell_type": "markdown",
   "metadata": {},
   "source": [
    "# 深度卷积神经网络(AlexNet)"
   ]
  },
  {
   "cell_type": "markdown",
   "metadata": {},
   "source": [
    "AlexNet\n",
    "- 更深更大的LeNet\n",
    "- 主要改进\n",
    "  - 丢弃法\n",
    "  - ReLU\n",
    "  - MaxPooling\n",
    "- 计算机视觉方法论的改变"
   ]
  },
  {
   "cell_type": "markdown",
   "metadata": {},
   "source": [
    "更多细节\n",
    "- 激活函数从sigmoid变到了Relu(减缓梯度消失)\n",
    "- 隐藏全连接层后加入了丢弃层\n",
    "- 数据增强"
   ]
  },
  {
   "cell_type": "code",
   "execution_count": 1,
   "metadata": {},
   "outputs": [],
   "source": [
    "import torch\n",
    "from torch import nn\n",
    "from d2l import torch as d2l"
   ]
  },
  {
   "cell_type": "code",
   "execution_count": 12,
   "metadata": {},
   "outputs": [],
   "source": [
    "#用Sequential构造器实现AlexNet\n",
    "net = nn.Sequential(nn.Conv2d(1, 96, kernel_size= 11, stride= 4, padding= 1), nn.ReLU(),\n",
    "                    nn.MaxPool2d(kernel_size= 3, stride= 2),\n",
    "                    nn.Conv2d(96, 256, kernel_size= 5, padding= 2), nn.ReLU(),\n",
    "                    nn.MaxPool2d(kernel_size= 3, stride= 2),\n",
    "                    nn.Conv2d(256, 384, kernel_size= 3, padding= 1), nn.ReLU(),\n",
    "                    nn.Conv2d(384, 384, kernel_size= 3, padding= 1), nn.ReLU(),                   \n",
    "                    nn.Conv2d(384, 256, kernel_size= 3, padding= 1), nn.ReLU(),                   \n",
    "                    nn.MaxPool2d(kernel_size= 3, stride= 2), nn.Flatten(),\n",
    "                    nn.Linear(6400, 4096), nn.ReLU(),\n",
    "                    nn.Dropout(p= 0.5),\n",
    "                    nn.Linear(4096, 4096), nn.ReLU(),\n",
    "                    nn.Dropout(p= 0.5),\n",
    "                    nn.Linear(4096, 10))"
   ]
  },
  {
   "cell_type": "code",
   "execution_count": 13,
   "metadata": {},
   "outputs": [
    {
     "name": "stdout",
     "output_type": "stream",
     "text": [
      "Conv2d output shape:\t torch.Size([1, 96, 54, 54])\n",
      "ReLU output shape:\t torch.Size([1, 96, 54, 54])\n",
      "MaxPool2d output shape:\t torch.Size([1, 96, 26, 26])\n",
      "Conv2d output shape:\t torch.Size([1, 256, 26, 26])\n",
      "ReLU output shape:\t torch.Size([1, 256, 26, 26])\n",
      "MaxPool2d output shape:\t torch.Size([1, 256, 12, 12])\n",
      "Conv2d output shape:\t torch.Size([1, 384, 12, 12])\n",
      "ReLU output shape:\t torch.Size([1, 384, 12, 12])\n",
      "Conv2d output shape:\t torch.Size([1, 384, 12, 12])\n",
      "ReLU output shape:\t torch.Size([1, 384, 12, 12])\n",
      "Conv2d output shape:\t torch.Size([1, 256, 12, 12])\n",
      "ReLU output shape:\t torch.Size([1, 256, 12, 12])\n",
      "MaxPool2d output shape:\t torch.Size([1, 256, 5, 5])\n",
      "Flatten output shape:\t torch.Size([1, 6400])\n",
      "Linear output shape:\t torch.Size([1, 4096])\n",
      "ReLU output shape:\t torch.Size([1, 4096])\n",
      "Dropout output shape:\t torch.Size([1, 4096])\n",
      "Linear output shape:\t torch.Size([1, 4096])\n",
      "ReLU output shape:\t torch.Size([1, 4096])\n",
      "Dropout output shape:\t torch.Size([1, 4096])\n",
      "Linear output shape:\t torch.Size([1, 10])\n"
     ]
    }
   ],
   "source": [
    "X = torch.randn(1, 1, 224, 224)\n",
    "for layer in net:\n",
    "    X=layer(X)\n",
    "    print(layer.__class__.__name__,'output shape:\\t',X.shape)"
   ]
  },
  {
   "cell_type": "code",
   "execution_count": null,
   "metadata": {},
   "outputs": [],
   "source": [
    "#读取Fashion-mnist数据集进行训练\n",
    "batch_size = 128\n",
    "#重新定义输入图片形状\n",
    "train_iter, test_iter = d2l.load_data_fashion_mnist(batch_size= batch_size, resize= 224)"
   ]
  }
 ],
 "metadata": {
  "kernelspec": {
   "display_name": "Python 3",
   "language": "python",
   "name": "python3"
  },
  "language_info": {
   "codemirror_mode": {
    "name": "ipython",
    "version": 3
   },
   "file_extension": ".py",
   "mimetype": "text/x-python",
   "name": "python",
   "nbconvert_exporter": "python",
   "pygments_lexer": "ipython3",
   "version": "3.8.20"
  }
 },
 "nbformat": 4,
 "nbformat_minor": 2
}
