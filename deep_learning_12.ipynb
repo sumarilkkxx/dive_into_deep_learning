{
 "cells": [
  {
   "cell_type": "code",
   "execution_count": 2,
   "metadata": {},
   "outputs": [],
   "source": [
    "#导入第三方库\n",
    "import torch \n",
    "from torch import nn\n",
    "from torch.nn import functional as F"
   ]
  },
  {
   "cell_type": "code",
   "execution_count": 3,
   "metadata": {},
   "outputs": [
    {
     "data": {
      "text/plain": [
       "tensor([[-0.0145,  0.1447,  0.1822,  0.0292, -0.0920,  0.1992,  0.2526, -0.2102,\n",
       "         -0.1267, -0.4142],\n",
       "        [-0.0752,  0.2277,  0.0867,  0.0730, -0.2226,  0.1559,  0.2617, -0.1474,\n",
       "         -0.1195, -0.2591]], grad_fn=<AddmmBackward0>)"
      ]
     },
     "execution_count": 3,
     "metadata": {},
     "output_type": "execute_result"
    }
   ],
   "source": [
    "#通过实例化nn.Sequential来构建模型\n",
    "net = nn.Sequential(nn.Linear(20, 256),\n",
    "                    nn.ReLU(),\n",
    "                    nn.Linear(256, 10))\n",
    "X = torch.rand(2, 20)\n",
    "net(X)"
   ]
  },
  {
   "cell_type": "markdown",
   "metadata": {},
   "source": [
    "自定义块\n",
    "总结每个块必须提供的基本功能：\n",
    "- 将输入数据作为其前向传播函数的参数\n",
    "- 通过前向传播函数生成输出(输出形状可能与输入形状不一样)\n",
    "- 计算其输出关于输入的梯度，可通过其反向传播函数进行访问\n",
    "- 存储和访问前向传播计算所需的参数\n",
    "- 根据需要初始化模型参数"
   ]
  },
  {
   "cell_type": "code",
   "execution_count": 4,
   "metadata": {},
   "outputs": [],
   "source": [
    "class MLP(nn.Module):\n",
    "    def __init__(self):\n",
    "        super().__init__()\n",
    "        self.hidden = nn.Linear(20, 256) #定义隐藏层\n",
    "        self.out = nn.Linear(256, 10) #定义输出层\n",
    "    \n",
    "    def forward(self, X):\n",
    "        #使用ReLU的函数版本，在nn.functional中有定义\n",
    "        return self.out(F.relu(self.hidden(X)))"
   ]
  },
  {
   "cell_type": "code",
   "execution_count": 5,
   "metadata": {},
   "outputs": [
    {
     "data": {
      "text/plain": [
       "tensor([[-3.3070e-01,  5.0582e-02, -5.9760e-02,  3.4124e-01, -1.7196e-01,\n",
       "          9.1782e-02,  4.6077e-02,  1.0822e-02, -1.4946e-01,  4.9948e-02],\n",
       "        [-2.0232e-01,  4.1026e-02, -5.7754e-02,  3.0041e-01, -1.7775e-01,\n",
       "          5.0201e-02, -1.7272e-04,  5.0000e-02, -1.2342e-01, -1.1324e-02]],\n",
       "       grad_fn=<AddmmBackward0>)"
      ]
     },
     "execution_count": 5,
     "metadata": {},
     "output_type": "execute_result"
    }
   ],
   "source": [
    "#系统自动生成反向传播函数和模型初始参数\n",
    "net = MLP()\n",
    "net(X)"
   ]
  },
  {
   "cell_type": "markdown",
   "metadata": {},
   "source": [
    "顺序快：为了实现Sequential类的工作原理，我们需要定义两个关键函数\n",
    "- 一种将块逐个追加到列表中的函数\n",
    "- 一种前向传播函数，用于将输入按追加块的顺序传递给块组成的链条"
   ]
  },
  {
   "cell_type": "code",
   "execution_count": 6,
   "metadata": {},
   "outputs": [],
   "source": [
    "#实现MySequential类\n",
    "class MySequential(nn.Module):\n",
    "    def __init__(self, *args):\n",
    "        super().__init__()\n",
    "        for idx, module in enumerate(args):\n",
    "            #这里, module是Module子类的一个实例，我们把它保存在'Module'类的成员\n",
    "            #变量_modules中，类型是OrderedDict\n",
    "            self._modules[str(idx)] = module\n",
    "    \n",
    "    def forward(self, X):\n",
    "        #OrderedDict保证了按照成员顺序遍历\n",
    "        for block in self._modules.values():\n",
    "            X = block(X)\n",
    "        return X"
   ]
  },
  {
   "cell_type": "code",
   "execution_count": 7,
   "metadata": {},
   "outputs": [
    {
     "data": {
      "text/plain": [
       "tensor([[-0.1692,  0.0806,  0.0305, -0.1654, -0.0244,  0.0998,  0.0786, -0.0175,\n",
       "          0.3414, -0.3511],\n",
       "        [-0.0794, -0.0040,  0.0482, -0.0190, -0.0482,  0.1406,  0.1012,  0.0808,\n",
       "          0.1870, -0.2224]], grad_fn=<AddmmBackward0>)"
      ]
     },
     "execution_count": 7,
     "metadata": {},
     "output_type": "execute_result"
    }
   ],
   "source": [
    "net = MySequential(nn.Linear(20, 256), nn.ReLU(), nn.Linear(256, 10))\n",
    "net(X)"
   ]
  },
  {
   "cell_type": "code",
   "execution_count": 8,
   "metadata": {},
   "outputs": [],
   "source": [
    "#在前向传播函数中执行代码，实现FixedHiddenMLP类\n",
    "class FixedHiddenMLP(nn.Module):\n",
    "    def __init__(self):\n",
    "        super().__init__()\n",
    "        #不计算梯度的随机权重参数，不进行参数更新\n",
    "        self.rand_weight = torch.rand((20, 20), requires_grad= False)\n",
    "        self.linear = nn.Linear(20, 20)\n",
    "    \n",
    "    def forward(self, X):\n",
    "        X = self.linear(X)\n",
    "        #使用创建的常量参数以及relu和mm函数\n",
    "        X = F.relu(torch.mm(X , self.rand_weight) + 1)\n",
    "        X = self.linear(X)\n",
    "        #控制流\n",
    "        while X.abs().sum() > 1:\n",
    "            X /= 2\n",
    "        return X.sum()"
   ]
  },
  {
   "cell_type": "code",
   "execution_count": 9,
   "metadata": {},
   "outputs": [
    {
     "data": {
      "text/plain": [
       "tensor(-0.1896, grad_fn=<SumBackward0>)"
      ]
     },
     "execution_count": 9,
     "metadata": {},
     "output_type": "execute_result"
    }
   ],
   "source": [
    "net = FixedHiddenMLP()\n",
    "net(X)"
   ]
  },
  {
   "cell_type": "code",
   "execution_count": 11,
   "metadata": {},
   "outputs": [
    {
     "data": {
      "text/plain": [
       "tensor(-0.1247, grad_fn=<SumBackward0>)"
      ]
     },
     "execution_count": 11,
     "metadata": {},
     "output_type": "execute_result"
    }
   ],
   "source": [
    "#混合搭配各种组合块的用法\n",
    "class NestMLP(nn.Module):\n",
    "    def __init__(self):\n",
    "        #继承父类的初始化方法\n",
    "        super().__init__()\n",
    "        self.net = nn.Sequential(nn.Linear(20, 64),\n",
    "                                 nn.ReLU(),\n",
    "                                 nn.Linear(64, 32),\n",
    "                                 nn.ReLU())\n",
    "        self.linear = nn.Linear(32, 16)\n",
    "\n",
    "    def forward(self, X):\n",
    "        return self.linear(self.net(X))\n",
    "\n",
    "chimera = nn.Sequential(NestMLP(), nn.Linear(16, 20), FixedHiddenMLP())\n",
    "chimera(X)"
   ]
  }
 ],
 "metadata": {
  "kernelspec": {
   "display_name": "Python 3",
   "language": "python",
   "name": "python3"
  },
  "language_info": {
   "codemirror_mode": {
    "name": "ipython",
    "version": 3
   },
   "file_extension": ".py",
   "mimetype": "text/x-python",
   "name": "python",
   "nbconvert_exporter": "python",
   "pygments_lexer": "ipython3",
   "version": "3.8.20"
  }
 },
 "nbformat": 4,
 "nbformat_minor": 2
}
