{
 "cells": [
  {
   "cell_type": "markdown",
   "metadata": {},
   "source": [
    "# 线性代数实现"
   ]
  },
  {
   "cell_type": "code",
   "execution_count": 1,
   "metadata": {},
   "outputs": [],
   "source": [
    "#导入第三方库\n",
    "import torch\n"
   ]
  },
  {
   "cell_type": "code",
   "execution_count": 3,
   "metadata": {},
   "outputs": [
    {
     "data": {
      "text/plain": [
       "(tensor([5.]), tensor([6.]), tensor([1.5000]), tensor([1.]), tensor([9.]))"
      ]
     },
     "execution_count": 3,
     "metadata": {},
     "output_type": "execute_result"
    }
   ],
   "source": [
    "#标量由只有一个元素的张量组成\n",
    "x = torch.tensor([3.0])\n",
    "y = torch.tensor([2.0])\n",
    "x + y, x*y, x / y, x - y, x**y #指数运算 "
   ]
  },
  {
   "cell_type": "code",
   "execution_count": 5,
   "metadata": {},
   "outputs": [
    {
     "name": "stdout",
     "output_type": "stream",
     "text": [
      "tensor(3)\n"
     ]
    },
    {
     "data": {
      "text/plain": [
       "torch.Size([4])"
      ]
     },
     "execution_count": 5,
     "metadata": {},
     "output_type": "execute_result"
    }
   ],
   "source": [
    "#向量可视为标量值组成的列表,可以通过索引来访问任意值\n",
    "x = torch.arange(4)\n",
    "print(x[3])\n",
    "x.shape"
   ]
  },
  {
   "cell_type": "code",
   "execution_count": 8,
   "metadata": {},
   "outputs": [
    {
     "name": "stdout",
     "output_type": "stream",
     "text": [
      "tensor([[ 0,  1,  2,  3],\n",
      "        [ 4,  5,  6,  7],\n",
      "        [ 8,  9, 10, 11],\n",
      "        [12, 13, 14, 15],\n",
      "        [16, 17, 18, 19]])\n"
     ]
    },
    {
     "data": {
      "text/plain": [
       "tensor([[ 0,  4,  8, 12, 16],\n",
       "        [ 1,  5,  9, 13, 17],\n",
       "        [ 2,  6, 10, 14, 18],\n",
       "        [ 3,  7, 11, 15, 19]])"
      ]
     },
     "execution_count": 8,
     "metadata": {},
     "output_type": "execute_result"
    }
   ],
   "source": [
    "#通过指定两个分量m，n来创建一个形状为m*n的矩阵\n",
    "A = torch.arange(20).reshape(5, 4)\n",
    "print(A)\n",
    "#矩阵A的转置矩阵\n",
    "A.T"
   ]
  },
  {
   "cell_type": "code",
   "execution_count": 9,
   "metadata": {},
   "outputs": [
    {
     "data": {
      "text/plain": [
       "tensor([[True, True, True],\n",
       "        [True, True, True],\n",
       "        [True, True, True]])"
      ]
     },
     "execution_count": 9,
     "metadata": {},
     "output_type": "execute_result"
    }
   ],
   "source": [
    "#对称矩阵A等于其转置矩阵\n",
    "B = torch.tensor([[1, 2, 3],\n",
    "                  [2, 0, 4],\n",
    "                  [3, 4, 5]])\n",
    "#判断矩阵B是否和自己的转置矩阵相等\n",
    "B == B.T"
   ]
  },
  {
   "cell_type": "code",
   "execution_count": 10,
   "metadata": {},
   "outputs": [
    {
     "data": {
      "text/plain": [
       "tensor([[[ 0,  1,  2,  3],\n",
       "         [ 4,  5,  6,  7],\n",
       "         [ 8,  9, 10, 11]],\n",
       "\n",
       "        [[12, 13, 14, 15],\n",
       "         [16, 17, 18, 19],\n",
       "         [20, 21, 22, 23]]])"
      ]
     },
     "execution_count": 10,
     "metadata": {},
     "output_type": "execute_result"
    }
   ],
   "source": [
    "#向量是标量的推广，矩阵是向量的推广，我们可以构建具有更多轴的数据结构\n",
    "X = torch.arange(24).reshape(2, 3, 4)\n",
    "X "
   ]
  },
  {
   "cell_type": "code",
   "execution_count": 12,
   "metadata": {},
   "outputs": [
    {
     "data": {
      "text/plain": [
       "True"
      ]
     },
     "execution_count": 12,
     "metadata": {},
     "output_type": "execute_result"
    }
   ],
   "source": [
    "#给定具有相同形状的任何两个张量，任何按元素二元运算的结果都是相同形状的张量\n",
    "A = torch.arange(20).reshape(5, 4)\n",
    "B = A.clone() #通过分配新内存将A的副本分配给B\n",
    "A.shape == (A+B).shape"
   ]
  },
  {
   "cell_type": "code",
   "execution_count": 13,
   "metadata": {},
   "outputs": [
    {
     "data": {
      "text/plain": [
       "tensor([[  0,   1,   4,   9],\n",
       "        [ 16,  25,  36,  49],\n",
       "        [ 64,  81, 100, 121],\n",
       "        [144, 169, 196, 225],\n",
       "        [256, 289, 324, 361]])"
      ]
     },
     "execution_count": 13,
     "metadata": {},
     "output_type": "execute_result"
    }
   ],
   "source": [
    "#两个矩阵按元素乘法称为哈达玛积\n",
    "A * B"
   ]
  },
  {
   "cell_type": "code",
   "execution_count": 14,
   "metadata": {},
   "outputs": [
    {
     "data": {
      "text/plain": [
       "(tensor([[[ 2,  3,  4,  5],\n",
       "          [ 6,  7,  8,  9],\n",
       "          [10, 11, 12, 13]],\n",
       " \n",
       "         [[14, 15, 16, 17],\n",
       "          [18, 19, 20, 21],\n",
       "          [22, 23, 24, 25]]]),\n",
       " torch.Size([2, 3, 4]))"
      ]
     },
     "execution_count": 14,
     "metadata": {},
     "output_type": "execute_result"
    }
   ],
   "source": [
    "a = 2\n",
    "X = torch.arange(24).reshape(2, 3, 4)\n",
    "a + X, (a* X).shape"
   ]
  },
  {
   "cell_type": "code",
   "execution_count": 15,
   "metadata": {},
   "outputs": [
    {
     "data": {
      "text/plain": [
       "tensor(6.)"
      ]
     },
     "execution_count": 15,
     "metadata": {},
     "output_type": "execute_result"
    }
   ],
   "source": [
    "#计算矩阵元素的和\n",
    "x = torch.arange(4, dtype= torch.float32)\n",
    "x.sum()"
   ]
  },
  {
   "cell_type": "code",
   "execution_count": 24,
   "metadata": {},
   "outputs": [
    {
     "name": "stdout",
     "output_type": "stream",
     "text": [
      "tensor([[[ 0.,  1.,  2.,  3.],\n",
      "         [ 4.,  5.,  6.,  7.],\n",
      "         [ 8.,  9., 10., 11.],\n",
      "         [12., 13., 14., 15.],\n",
      "         [16., 17., 18., 19.]],\n",
      "\n",
      "        [[20., 21., 22., 23.],\n",
      "         [24., 25., 26., 27.],\n",
      "         [28., 29., 30., 31.],\n",
      "         [32., 33., 34., 35.],\n",
      "         [36., 37., 38., 39.]]])\n",
      "tensor([[20., 22., 24., 26.],\n",
      "        [28., 30., 32., 34.],\n",
      "        [36., 38., 40., 42.],\n",
      "        [44., 46., 48., 50.],\n",
      "        [52., 54., 56., 58.]])\n",
      "tensor([[ 40.,  45.,  50.,  55.],\n",
      "        [140., 145., 150., 155.]])\n",
      "tensor([[  6.,  22.,  38.,  54.,  70.],\n",
      "        [ 86., 102., 118., 134., 150.]])\n",
      "tensor([180., 190., 200., 210.])\n"
     ]
    }
   ],
   "source": [
    "#表示任意形状张量的和\n",
    "A = torch.arange(40, dtype= torch.float32).reshape(2, 5, 4)\n",
    "print(A)\n",
    "#指定汇总张量的轴\n",
    "A_sum_axis0 = A.sum(axis= 0)\n",
    "print(A_sum_axis0)\n",
    "A_sum_axis1 = A.sum(axis= 1)\n",
    "print(A_sum_axis1)\n",
    "A_sum_axis2 = A.sum(axis= 2)\n",
    "print(A_sum_axis2)\n",
    "#按维度组合汇总张量\n",
    "print(A.sum(axis= [0, 1]))"
   ]
  },
  {
   "cell_type": "code",
   "execution_count": 28,
   "metadata": {},
   "outputs": [
    {
     "name": "stdout",
     "output_type": "stream",
     "text": [
      "tensor([[[ 40.,  45.,  50.,  55.]],\n",
      "\n",
      "        [[140., 145., 150., 155.]]])\n"
     ]
    },
    {
     "data": {
      "text/plain": [
       "tensor([[[0.0000, 0.0222, 0.0400, 0.0545],\n",
       "         [0.1000, 0.1111, 0.1200, 0.1273],\n",
       "         [0.2000, 0.2000, 0.2000, 0.2000],\n",
       "         [0.3000, 0.2889, 0.2800, 0.2727],\n",
       "         [0.4000, 0.3778, 0.3600, 0.3455]],\n",
       "\n",
       "        [[0.1429, 0.1448, 0.1467, 0.1484],\n",
       "         [0.1714, 0.1724, 0.1733, 0.1742],\n",
       "         [0.2000, 0.2000, 0.2000, 0.2000],\n",
       "         [0.2286, 0.2276, 0.2267, 0.2258],\n",
       "         [0.2571, 0.2552, 0.2533, 0.2516]]])"
      ]
     },
     "execution_count": 28,
     "metadata": {},
     "output_type": "execute_result"
    }
   ],
   "source": [
    "#一个与求和相关的量是平均值(mean或average)\n",
    "A.mean(), A.sum()/ A.numel()\n",
    "#指定维度求平均\n",
    "A.mean(axis = 0), A.sum(axis= 0) / A.shape[0]\n",
    "#计算总和或均值时保持轴数不变,设置keepdims参数为True\n",
    "sum_A = A.sum(axis = 1, keepdims= True)\n",
    "print(sum_A)\n",
    "#通过广播机制将A除以sum_A\n",
    "A / sum_A"
   ]
  },
  {
   "cell_type": "code",
   "execution_count": 30,
   "metadata": {},
   "outputs": [
    {
     "name": "stdout",
     "output_type": "stream",
     "text": [
      "tensor([[[ 0.,  1.,  2.,  3.],\n",
      "         [ 4.,  5.,  6.,  7.],\n",
      "         [ 8.,  9., 10., 11.],\n",
      "         [12., 13., 14., 15.],\n",
      "         [16., 17., 18., 19.]],\n",
      "\n",
      "        [[20., 22., 24., 26.],\n",
      "         [28., 30., 32., 34.],\n",
      "         [36., 38., 40., 42.],\n",
      "         [44., 46., 48., 50.],\n",
      "         [52., 54., 56., 58.]]])\n"
     ]
    }
   ],
   "source": [
    "#按某个轴计算A元素的累积总和\n",
    "print(A.cumsum(axis= 0))"
   ]
  },
  {
   "cell_type": "code",
   "execution_count": 32,
   "metadata": {},
   "outputs": [
    {
     "name": "stdout",
     "output_type": "stream",
     "text": [
      "tensor(6.)\n"
     ]
    },
    {
     "data": {
      "text/plain": [
       "(tensor([0., 1., 2., 3.]), tensor([1., 1., 1., 1.]), tensor(6.))"
      ]
     },
     "execution_count": 32,
     "metadata": {},
     "output_type": "execute_result"
    }
   ],
   "source": [
    "#点积是相同位置按元素乘积的和\n",
    "y = torch.ones(4, dtype= torch.float32)\n",
    "#可以通过执行按元素乘法，然后进行元素求和来表示两个向量的点积\n",
    "print(torch.sum(x*y))\n",
    "x, y, torch.dot(x, y)"
   ]
  },
  {
   "cell_type": "code",
   "execution_count": 33,
   "metadata": {},
   "outputs": [
    {
     "data": {
      "text/plain": [
       "tensor([ 14.,  38.,  62.,  86., 110., 134., 158., 182., 206., 230.])"
      ]
     },
     "execution_count": 33,
     "metadata": {},
     "output_type": "execute_result"
    }
   ],
   "source": [
    "#矩阵向量积Ax是一个长度为m的列向量\n",
    "A = A.reshape(10, 4)\n",
    "torch.mv(A, x)"
   ]
  },
  {
   "cell_type": "code",
   "execution_count": 34,
   "metadata": {},
   "outputs": [
    {
     "data": {
      "text/plain": [
       "tensor([[  6.,   6.,   6.],\n",
       "        [ 22.,  22.,  22.],\n",
       "        [ 38.,  38.,  38.],\n",
       "        [ 54.,  54.,  54.],\n",
       "        [ 70.,  70.,  70.],\n",
       "        [ 86.,  86.,  86.],\n",
       "        [102., 102., 102.],\n",
       "        [118., 118., 118.],\n",
       "        [134., 134., 134.],\n",
       "        [150., 150., 150.]])"
      ]
     },
     "execution_count": 34,
     "metadata": {},
     "output_type": "execute_result"
    }
   ],
   "source": [
    "#我们可以将矩阵-矩阵乘法AB看作是简单地执行m次矩阵-向量积并将结果拼接在一起，形成一个n*m的矩阵\n",
    "B = torch.ones(4, 3)\n",
    "torch.mm(A, B)"
   ]
  },
  {
   "cell_type": "code",
   "execution_count": 37,
   "metadata": {},
   "outputs": [
    {
     "name": "stdout",
     "output_type": "stream",
     "text": [
      "tensor(5.)\n",
      "tensor(7.)\n",
      "tensor(6.)\n"
     ]
    }
   ],
   "source": [
    "#L2范数是向量元素平方和的平方根，方法为torch.norm()\n",
    "u = torch.tensor([3.0, -4.0])\n",
    "print(torch.norm(u))\n",
    "#L1范数表示为向量元素的绝对值之和\n",
    "print(torch.abs(u).sum())\n",
    "#矩阵的费罗贝尼乌斯范数(Frobenius norm)是矩阵元素平方和的平方根\n",
    "print(torch.norm(torch.ones((4,9))))"
   ]
  }
 ],
 "metadata": {
  "kernelspec": {
   "display_name": "Python 3",
   "language": "python",
   "name": "python3"
  },
  "language_info": {
   "codemirror_mode": {
    "name": "ipython",
    "version": 3
   },
   "file_extension": ".py",
   "mimetype": "text/x-python",
   "name": "python",
   "nbconvert_exporter": "python",
   "pygments_lexer": "ipython3",
   "version": "3.8.20"
  }
 },
 "nbformat": 4,
 "nbformat_minor": 2
}
