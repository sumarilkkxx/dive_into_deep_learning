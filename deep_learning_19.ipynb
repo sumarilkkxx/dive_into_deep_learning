{
 "cells": [
  {
   "cell_type": "markdown",
   "metadata": {},
   "source": [
    "# 网络中的网络(NiN)"
   ]
  },
  {
   "cell_type": "markdown",
   "metadata": {},
   "source": [
    "全连接层的问题\n",
    "- 卷积层需要较少的参数\n",
    "- 但卷积层后的第一个全连接层的参数\n",
    "  - LeNet：48k\n",
    "  - AlexNet：26m\n",
    "  - VGG：102m"
   ]
  },
  {
   "cell_type": "markdown",
   "metadata": {},
   "source": [
    "NiN块\n",
    "- 一个卷积层后跟两个全连接层\n",
    "  - 步幅1，无填充，输出形状跟卷积层输出一样\n",
    "  - 起到全连接层的作用"
   ]
  },
  {
   "cell_type": "markdown",
   "metadata": {},
   "source": [
    "NiN架构\n",
    "- 无全连接层\n",
    "- 交替使用NiN块和步幅为2的最大池化层\n",
    "  - 逐步减少高宽和增大通道数\n",
    "- 最后使用全局平均池化层得到输出\n",
    "  - 其输入通道数是类别数"
   ]
  },
  {
   "cell_type": "markdown",
   "metadata": {},
   "source": [
    "总结\n",
    "- NiN块使用卷积加两个1X1卷积层\n",
    "  - 后者对每个像素增加了非线性性\n",
    "- NiN使用全局平均池化层来替代VGG和AlexNet中的全连接层\n",
    "  - 不容易过拟合，更少的参数个数"
   ]
  },
  {
   "cell_type": "code",
   "execution_count": 1,
   "metadata": {},
   "outputs": [],
   "source": [
    "import torch\n",
    "from torch import nn\n",
    "from d2l import torch as d2l"
   ]
  },
  {
   "cell_type": "code",
   "execution_count": 2,
   "metadata": {},
   "outputs": [],
   "source": [
    "#定义NiN块\n",
    "def nin_block(in_channels, out_channels, kernel_size, strides, padding):\n",
    "    \"\"\"用Sequential构造器构建NiN块\"\"\"\n",
    "    return nn.Sequential(\n",
    "        nn.Conv2d(in_channels, out_channels, kernel_size, strides, padding),\n",
    "        nn.ReLU(),\n",
    "        nn.Conv2d(out_channels, out_channels, kernel_size= 1),nn.ReLU(),\n",
    "        nn.Conv2d(out_channels, out_channels, kernel_size= 1),nn.ReLU())"
   ]
  },
  {
   "cell_type": "code",
   "execution_count": 5,
   "metadata": {},
   "outputs": [],
   "source": [
    "net = nn.Sequential(\n",
    "    nin_block(1, 96, kernel_size= 11, strides= 4, padding= 0),\n",
    "    nn.MaxPool2d(3, stride= 2),\n",
    "    nin_block(96, 256, kernel_size= 5, strides= 1, padding= 2),\n",
    "    nn.MaxPool2d(3, stride= 2),\n",
    "    nin_block(256, 384, kernel_size= 3, strides= 1, padding= 1),\n",
    "    nn.MaxPool2d(3, stride= 2),\n",
    "    nn.Dropout(0.5),\n",
    "    #按标签类别输出\n",
    "    nin_block(384, 10, kernel_size=3, strides= 1, padding= 1),\n",
    "    nn.AdaptiveAvgPool2d((1, 1)),\n",
    "    #展平，将四维输出转成二维输出，其形状为(batch_size, 10)\n",
    "    nn.Flatten())"
   ]
  },
  {
   "cell_type": "code",
   "execution_count": 6,
   "metadata": {},
   "outputs": [
    {
     "name": "stdout",
     "output_type": "stream",
     "text": [
      "Sequential output shape:\t torch.Size([1, 96, 54, 54])\n",
      "MaxPool2d output shape:\t torch.Size([1, 96, 26, 26])\n",
      "Sequential output shape:\t torch.Size([1, 256, 26, 26])\n",
      "MaxPool2d output shape:\t torch.Size([1, 256, 12, 12])\n",
      "Sequential output shape:\t torch.Size([1, 384, 12, 12])\n",
      "MaxPool2d output shape:\t torch.Size([1, 384, 5, 5])\n",
      "Dropout output shape:\t torch.Size([1, 384, 5, 5])\n",
      "Sequential output shape:\t torch.Size([1, 10, 5, 5])\n",
      "AdaptiveAvgPool2d output shape:\t torch.Size([1, 10, 1, 1])\n",
      "Flatten output shape:\t torch.Size([1, 10])\n"
     ]
    }
   ],
   "source": [
    "X = torch.rand(size= (1, 1, 224, 224))\n",
    "for layer in net:\n",
    "    X = layer(X)\n",
    "    print(layer.__class__.__name__, 'output shape:\\t', X.shape)"
   ]
  },
  {
   "cell_type": "code",
   "execution_count": 1,
   "metadata": {},
   "outputs": [
    {
     "ename": "NameError",
     "evalue": "name 'd2l' is not defined",
     "output_type": "error",
     "traceback": [
      "\u001b[1;31m---------------------------------------------------------------------------\u001b[0m",
      "\u001b[1;31mNameError\u001b[0m                                 Traceback (most recent call last)",
      "Cell \u001b[1;32mIn[1], line 2\u001b[0m\n\u001b[0;32m      1\u001b[0m lr, num_epochs, batch_size \u001b[38;5;241m=\u001b[39m \u001b[38;5;241m0.1\u001b[39m, \u001b[38;5;241m10\u001b[39m, \u001b[38;5;241m128\u001b[39m\n\u001b[1;32m----> 2\u001b[0m train_iter, test_iter \u001b[38;5;241m=\u001b[39m d2l\u001b[38;5;241m.\u001b[39mload_data_fashion_mnist(batch_size, resize\u001b[38;5;241m=\u001b[39m \u001b[38;5;241m224\u001b[39m)\n\u001b[0;32m      3\u001b[0m d2l\u001b[38;5;241m.\u001b[39mtrain_ch6(net, train_iter, test_iter, num_epochs, lr, d2l\u001b[38;5;241m.\u001b[39mtry_gpu())\n",
      "\u001b[1;31mNameError\u001b[0m: name 'd2l' is not defined"
     ]
    }
   ],
   "source": [
    "lr, num_epochs, batch_size = 0.1, 10, 128\n",
    "train_iter, test_iter = d2l.load_data_fashion_mnist(batch_size, resize= 224)\n",
    "d2l.train_ch6(net, train_iter, test_iter, num_epochs, lr, d2l.try_gpu())"
   ]
  }
 ],
 "metadata": {
  "kernelspec": {
   "display_name": "Python 3",
   "language": "python",
   "name": "python3"
  },
  "language_info": {
   "codemirror_mode": {
    "name": "ipython",
    "version": 3
   },
   "file_extension": ".py",
   "mimetype": "text/x-python",
   "name": "python",
   "nbconvert_exporter": "python",
   "pygments_lexer": "ipython3",
   "version": "3.8.20"
  }
 },
 "nbformat": 4,
 "nbformat_minor": 2
}
